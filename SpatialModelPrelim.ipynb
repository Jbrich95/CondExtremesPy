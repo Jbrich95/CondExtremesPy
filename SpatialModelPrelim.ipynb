{
 "cells": [
  {
   "cell_type": "markdown",
   "metadata": {},
   "source": [
    "# Spatial model - motivation"
   ]
  },
  {
   "cell_type": "markdown",
   "metadata": {},
   "source": [
    "To motivate a spatial extension of the Heffernan and Tawn model, we consider the conditional expectation as a function of distance. We first specify a conditioning location. Then we can estimate the conditional expectation of the process at every other site, given that the variable at the conditioning site exceeds some $u$."
   ]
  },
  {
   "cell_type": "code",
   "execution_count": 5,
   "metadata": {},
   "outputs": [],
   "source": [
    "import numpy as np\n",
    "from scipy.stats import laplace\n",
    "from scipy.optimize import minimize\n",
    "import pandas as pd\n",
    "import math\n",
    "import matplotlib.pyplot as plt\n",
    "\n",
    "%matplotlib inline\n",
    "\n",
    "from Master_Functions import CondExtBivNegLogLik\n",
    "from DeltaLaplaceFuncs import DeltaLaplace"
   ]
  },
  {
   "cell_type": "code",
   "execution_count": 6,
   "metadata": {},
   "outputs": [
    {
     "name": "stdout",
     "output_type": "stream",
     "text": [
      "numpy 1.19.5\n",
      "pandas 1.1.5\n"
     ]
    }
   ],
   "source": [
    "# For module development\n",
    "%load_ext autoreload\n",
    "%autoreload 2\n",
    "print('\\n'.join(f'{m.__name__} {m.__version__}' for m in globals().values() if getattr(m, '__version__', None)))\n"
   ]
  },
  {
   "cell_type": "code",
   "execution_count": 7,
   "metadata": {},
   "outputs": [
    {
     "name": "stdout",
     "output_type": "stream",
     "text": [
      "(5234, 72)\n",
      "(72, 2)\n"
     ]
    }
   ],
   "source": [
    "\n",
    "df=pd.read_csv(\"data/Aus_Temp_Values.csv\", index_col=[0])\n",
    "coords=pd.read_csv(\"data/Aus_Temp_Coordinates.csv\", index_col=[0])\n",
    "\n",
    "\n",
    "print(df.shape)\n",
    "\n",
    "##5324 observations, Summer only (DJF), 1957-2014\n",
    "##There are 72 observation locations, (lat,lon) coordinates given in coords\n",
    "\n",
    "print(coords.shape)\n",
    "\n",
    "n_locs = coords.shape[0]"
   ]
  },
  {
   "cell_type": "code",
   "execution_count": 8,
   "metadata": {},
   "outputs": [],
   "source": [
    "\n",
    "def haversine(coord1, coord2):\n",
    "    R = 6372.8  # Earth radius in km\n",
    "    lat1, lon1 = coord1\n",
    "    lat2, lon2 = coord2\n",
    "    \n",
    "    phi1, phi2 = math.radians(lat1), math.radians(lat2) \n",
    "    dphi       = math.radians(lat2 - lat1)\n",
    "    dlambda    = math.radians(lon2 - lon1)\n",
    "    \n",
    "    a = math.sin(dphi/2)**2 + math.cos(phi1)*math.cos(phi2)*math.sin(dlambda/2)**2\n",
    "    \n",
    "    return 2*R*math.atan2(math.sqrt(a), math.sqrt(1 - a))\n",
    "\n"
   ]
  },
  {
   "cell_type": "code",
   "execution_count": 30,
   "metadata": {},
   "outputs": [
    {
     "name": "stdout",
     "output_type": "stream",
     "text": [
      "Location 2 fit done\n",
      "Location 3 fit done\n",
      "Location 4 fit done\n",
      "Location 5 fit done\n",
      "Location 6 fit done\n",
      "Location 7 fit done\n",
      "Location 8 fit done\n",
      "Location 9 fit done\n",
      "Location 10 fit done\n",
      "Location 11 fit done\n",
      "Location 12 fit done\n",
      "Location 13 fit done\n",
      "Location 14 fit done\n",
      "Location 15 fit done\n",
      "Location 16 fit done\n",
      "Location 17 fit done\n",
      "Location 18 fit done\n",
      "Location 19 fit done\n",
      "Location 20 fit done\n",
      "Location 21 fit done\n",
      "Location 22 fit done\n",
      "Location 23 fit done\n",
      "Location 24 fit done\n",
      "Location 25 fit done\n",
      "Location 26 fit done\n",
      "Location 27 fit done\n",
      "Location 28 fit done\n",
      "Location 29 fit done\n",
      "Location 30 fit done\n",
      "Location 31 fit done\n",
      "Location 32 fit done\n",
      "Location 33 fit done\n",
      "Location 34 fit done\n",
      "Location 35 fit done\n",
      "Location 36 fit done\n",
      "Location 37 fit done\n",
      "Location 38 fit done\n",
      "Location 39 fit done\n",
      "Location 40 fit done\n",
      "Location 41 fit done\n",
      "Location 42 fit done\n",
      "Location 43 fit done\n",
      "Location 44 fit done\n",
      "Location 45 fit done\n",
      "Location 46 fit done\n",
      "Location 47 fit done\n",
      "Location 48 fit done\n",
      "Location 49 fit done\n",
      "Location 50 fit done\n",
      "Location 51 fit done\n",
      "Location 52 fit done\n",
      "Location 53 fit done\n",
      "Location 54 fit done\n",
      "Location 55 fit done\n",
      "Location 56 fit done\n",
      "Location 57 fit done\n",
      "Location 58 fit done\n",
      "Location 59 fit done\n",
      "Location 60 fit done\n",
      "Location 61 fit done\n",
      "Location 62 fit done\n",
      "Location 63 fit done\n",
      "Location 64 fit done\n",
      "Location 65 fit done\n",
      "Location 66 fit done\n",
      "Location 67 fit done\n",
      "Location 68 fit done\n",
      "Location 69 fit done\n",
      "Location 70 fit done\n",
      "Location 71 fit done\n",
      "Location 72 fit done\n"
     ]
    }
   ],
   "source": [
    "Cond_site_ind = 0\n",
    "pars = []\n",
    "dists = []\n",
    "\n",
    "X = df.iloc[:,Cond_site_ind]\n",
    "u = np.quantile(X, 0.98)\n",
    "X_data = X[X > u]\n",
    "\n",
    "init_par=[0.8,0.4,0.2,0.5,2]\n",
    "use_DL = True\n",
    "\n",
    "n_sites = len(coords)\n",
    "\n",
    "\n",
    "lon1, lat1 = coords.iloc[Cond_site_ind,]\n",
    "\n",
    "for i in range(1,n_sites):\n",
    "    \n",
    "    Y = df.iloc[:,i]\n",
    "    Y_data = Y[X > u]\n",
    "    \n",
    "    fit = minimize(fun = CondExtBivNegLogLik,x0 = init_par,\n",
    "               args=(X_data,Y_data,use_DL),\n",
    "               method=\"Nelder-Mead\")\n",
    "    \n",
    "    pars.append(fit.x)\n",
    "    \n",
    "    lon2, lat2 = coords.iloc[i,]\n",
    "\n",
    "    dists.append(haversine((lon1,lat1),(lon2,lat2)))\n",
    "    \n",
    "    print(\"Location %i fit done\" %(i+1))"
   ]
  },
  {
   "cell_type": "code",
   "execution_count": 34,
   "metadata": {
    "scrolled": true
   },
   "outputs": [
    {
     "data": {
      "image/png": "[encoded data removed]",
      "text/plain": [
       "<Figure size 432x288 with 1 Axes>"
      ]
     },
     "metadata": {
      "needs_background": "light"
     },
     "output_type": "display_data"
    }
   ],
   "source": [
    "u = np.quantile(X, 0.98)\n",
    "\n",
    "Cond_Exp=[]\n",
    "for i in range(0,n_sites-1):\n",
    "    alpha,beta,mu = pars[i][0:3]\n",
    "    Cond_Exp.append(alpha*u+u**beta*mu)\n",
    "\n",
    "plt.plot()\n",
    "plt.xlabel(\"Distance (km)\")\n",
    "plt.ylabel(\"Conditional Expectation Y| X > %.1f\" %u)\n",
    "plt.scatter(dists,Cond_Exp)\n",
    "plt.show()"
   ]
  },
  {
   "cell_type": "code",
   "execution_count": 36,
   "metadata": {},
   "outputs": [
    {
     "data": {
      "image/png": "[encoded data removed]",
      "text/plain": [
       "<Figure size 684x432 with 6 Axes>"
      ]
     },
     "metadata": {
      "needs_background": "light"
     },
     "output_type": "display_data"
    }
   ],
   "source": [
    "#Clearly there's some spatial structure that could be integrated into the model. What about the parameter estimates?\n",
    "u = np.quantile(X, 0.98)\n",
    "\n",
    "alphas, betas, mus, sigmas, deltas = [], [], [], [], []\n",
    "for i in range(0,n_sites-1):\n",
    "    alpha,beta,mu,sigma = pars[i]\n",
    "    \n",
    "    betas.append(beta)\n",
    "    sigmas.append(sigma)\n",
    "    mus.append(mu)\n",
    "    deltas.append(delta)\n",
    "    alphas.append(alpha)\n",
    "\n",
    "\n",
    "\n",
    "fig, axs = plt.subplots(2, 3, figsize=(9.5, 6))\n",
    "\n",
    "axs[0,0].scatter(dists,alphas)\n",
    "axs[0,0].set_ylabel(\"Alpha\")\n",
    "\n",
    "axs[0,1].scatter(dists,betas)\n",
    "axs[0,1].set_ylabel(\"Beta\")\n",
    "\n",
    "axs[0,2].scatter(dists,mus)\n",
    "axs[0,2].set_ylabel(\"Mu\")\n",
    "\n",
    "axs[1,0].scatter(dists,sigmas)\n",
    "axs[1,0].set_ylabel(\"Sigma\")\n",
    "\n",
    "axs[1,1].scatter(dists,deltas)\n",
    "axs[1,1].set_ylabel(\"Delta\")\n",
    "\n",
    "axs[1,2].scatter(dists,Cond_Exp)\n",
    "axs[1,2].set_ylabel(\"Conditional Expectation Y| X > %.1f\" %u)\n",
    "\n",
    "plt.setp(axs,xlabel=\"Distance (km)\")\n",
    "fig.tight_layout()    \n",
    "\n"
   ]
  },
  {
   "cell_type": "markdown",
   "metadata": {},
   "source": []
  }
 ],
 "metadata": {
  "kernelspec": {
   "display_name": "Python 3",
   "language": "python",
   "name": "python3"
  }
 },
 "nbformat": 4,
 "nbformat_minor": 4
}
